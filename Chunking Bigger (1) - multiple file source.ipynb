{
 "cells": [
  {
   "cell_type": "markdown",
   "metadata": {},
   "source": [
    "# Table of Contents\n",
    "\n",
    "After [setting up](#Set-up) the python environment, we are going to:\n",
    "- read the source file into memory\n",
    "- determine the variable on which we will split files\n",
    "- create an ordered list of values for that variable and save it as an object\n",
    "- recursively do the following until we've done this for all chunks\n",
    "    - overwrite the df with the slice that represents a chunk\n",
    "    - add headers to the file\n",
    "    - create a name for the file and save as an object\n",
    "    - write the resulting file out to a folder with that name"
   ]
  },
  {
   "cell_type": "markdown",
   "metadata": {},
   "source": [
    "# Set up"
   ]
  },
  {
   "cell_type": "code",
   "execution_count": 1,
   "metadata": {},
   "outputs": [],
   "source": [
    "import pandas as pd\n",
    "import numpy as np\n",
    "import io, glob"
   ]
  },
  {
   "cell_type": "markdown",
   "metadata": {},
   "source": [
    "# Initial Reading of Data (1st Lambda)\n",
    "\n",
    "[back to top](#Table-of-Contents)"
   ]
  },
  {
   "cell_type": "markdown",
   "metadata": {},
   "source": [
    "The data will flow through three folders:\n",
    "- the input folder: \n",
    "    this folder holds the large files which need to be chunked\n",
    "- the intermediate folder: \n",
    "    this folder will hold intermediate files which have data associated with an individual booklet.  The data in these files may not contain all events associated with a particular student, depending on the value assigned to the chunksize argument supplied to pandas.read_csv and the size of the data associate with that student \n",
    "- output folder:\n",
    "    This is the folder where the final chunks will be placed. Each file here contains all of the events associated with the student indicated in the filename"
   ]
  },
  {
   "cell_type": "code",
   "execution_count": 5,
   "metadata": {},
   "outputs": [],
   "source": [
    "####################################################\n",
    "# This function \n",
    "# x = The assigned student number\n",
    "# chunks = the number of individual chunks to assign\n",
    "####################################################\n",
    "def assignChunk(x,chunks=chunks):\n",
    "    return min([c for c in chunks if x<c])"
   ]
  },
  {
   "cell_type": "code",
   "execution_count": 16,
   "metadata": {},
   "outputs": [],
   "source": [
    "\n",
    "# fileListdfST17 = glob.glob(\"YangST4download/all_others/dfST1717*_book_*.csv\")\n",
    "# fileListdfST_17 = glob.glob(\"YangST4download/all_others/dfST_1717*_book_*.csv\")\n",
    "# fileListdfST7 = glob.glob(\"YangST4download/all_others/dfST7*_book_*.csv\")"
   ]
  },
  {
   "cell_type": "code",
   "execution_count": 11,
   "metadata": {},
   "outputs": [
    {
     "data": {
      "text/plain": [
       "['1717MA2N09CLIC30EX_M233.csv']"
      ]
     },
     "execution_count": 11,
     "metadata": {},
     "output_type": "execute_result"
    }
   ],
   "source": [
    "fileList = glob.glob('1717MA2N09CLIC30EX_M233.csv')\n",
    "fileList"
   ]
  },
  {
   "cell_type": "markdown",
   "metadata": {},
   "source": [
    "The cell below creates the reference dataframe that deals with a single file."
   ]
  },
  {
   "cell_type": "code",
   "execution_count": 2,
   "metadata": {},
   "outputs": [
    {
     "name": "stdout",
     "output_type": "stream",
     "text": [
      "There are 358228 unique Booklets in the source file.\n"
     ]
    }
   ],
   "source": [
    "df = pd.read_csv('C:/Users/cagard/Downloads/ST4/2017Math_1717MA4D01GXXX02EX_obs_tab_delimited_headers_CA.csv')\n",
    "\n",
    "refdf = pd.DataFrame(df.BookletNumber.unique())\n",
    "refdf = refdf.reset_index().rename(columns={'index':'Student', 0:'BookletNumber'})\n",
    "print(\"There are %d unique Booklets in the source file.\"%refdf.BookletNumber.nunique())"
   ]
  },
  {
   "cell_type": "markdown",
   "metadata": {},
   "source": [
    "The cell below deals with multiple input files:"
   ]
  },
  {
   "cell_type": "code",
   "execution_count": 4,
   "metadata": {},
   "outputs": [
    {
     "data": {
      "text/html": [
       "<div>\n",
       "<style scoped>\n",
       "    .dataframe tbody tr th:only-of-type {\n",
       "        vertical-align: middle;\n",
       "    }\n",
       "\n",
       "    .dataframe tbody tr th {\n",
       "        vertical-align: top;\n",
       "    }\n",
       "\n",
       "    .dataframe thead th {\n",
       "        text-align: right;\n",
       "    }\n",
       "</style>\n",
       "<table border=\"1\" class=\"dataframe\">\n",
       "  <thead>\n",
       "    <tr style=\"text-align: right;\">\n",
       "      <th></th>\n",
       "      <th>Student</th>\n",
       "      <th>File</th>\n",
       "    </tr>\n",
       "  </thead>\n",
       "  <tbody>\n",
       "    <tr>\n",
       "      <th>0</th>\n",
       "      <td>0</td>\n",
       "      <td>YangST4download/all_others/dfST_1717MA2N09CLIC...</td>\n",
       "    </tr>\n",
       "    <tr>\n",
       "      <th>1</th>\n",
       "      <td>1</td>\n",
       "      <td>YangST4download/all_others/dfST_1717MA2N09CLIC...</td>\n",
       "    </tr>\n",
       "    <tr>\n",
       "      <th>2</th>\n",
       "      <td>2</td>\n",
       "      <td>YangST4download/all_others/dfST_1717MA2N09CLIC...</td>\n",
       "    </tr>\n",
       "    <tr>\n",
       "      <th>3</th>\n",
       "      <td>3</td>\n",
       "      <td>YangST4download/all_others/dfST_1717MA2N09CLIC...</td>\n",
       "    </tr>\n",
       "    <tr>\n",
       "      <th>4</th>\n",
       "      <td>4</td>\n",
       "      <td>YangST4download/all_others/dfST_1717MA2N09CLIC...</td>\n",
       "    </tr>\n",
       "    <tr>\n",
       "      <th>...</th>\n",
       "      <td>...</td>\n",
       "      <td>...</td>\n",
       "    </tr>\n",
       "    <tr>\n",
       "      <th>28235</th>\n",
       "      <td>28235</td>\n",
       "      <td>YangST4download/all_others/dfST_1717MA2N09CLIC...</td>\n",
       "    </tr>\n",
       "    <tr>\n",
       "      <th>28236</th>\n",
       "      <td>28236</td>\n",
       "      <td>YangST4download/all_others/dfST_1717MA2N09CLIC...</td>\n",
       "    </tr>\n",
       "    <tr>\n",
       "      <th>28237</th>\n",
       "      <td>28237</td>\n",
       "      <td>YangST4download/all_others/dfST_1717MA2N09CLIC...</td>\n",
       "    </tr>\n",
       "    <tr>\n",
       "      <th>28238</th>\n",
       "      <td>28238</td>\n",
       "      <td>YangST4download/all_others/dfST_1717MA2N09CLIC...</td>\n",
       "    </tr>\n",
       "    <tr>\n",
       "      <th>28239</th>\n",
       "      <td>28239</td>\n",
       "      <td>YangST4download/all_others/dfST_1717MA2N09CLIC...</td>\n",
       "    </tr>\n",
       "  </tbody>\n",
       "</table>\n",
       "<p>28240 rows × 2 columns</p>\n",
       "</div>"
      ],
      "text/plain": [
       "       Student                                               File\n",
       "0            0  YangST4download/all_others/dfST_1717MA2N09CLIC...\n",
       "1            1  YangST4download/all_others/dfST_1717MA2N09CLIC...\n",
       "2            2  YangST4download/all_others/dfST_1717MA2N09CLIC...\n",
       "3            3  YangST4download/all_others/dfST_1717MA2N09CLIC...\n",
       "4            4  YangST4download/all_others/dfST_1717MA2N09CLIC...\n",
       "...        ...                                                ...\n",
       "28235    28235  YangST4download/all_others/dfST_1717MA2N09CLIC...\n",
       "28236    28236  YangST4download/all_others/dfST_1717MA2N09CLIC...\n",
       "28237    28237  YangST4download/all_others/dfST_1717MA2N09CLIC...\n",
       "28238    28238  YangST4download/all_others/dfST_1717MA2N09CLIC...\n",
       "28239    28239  YangST4download/all_others/dfST_1717MA2N09CLIC...\n",
       "\n",
       "[28240 rows x 2 columns]"
      ]
     },
     "execution_count": 4,
     "metadata": {},
     "output_type": "execute_result"
    }
   ],
   "source": [
    "####################################################\n",
    "# Take all the files that exist in the combinedBook directory that start with 'dfST_' and ends with '.csv' and \n",
    "# build a list with those files and store them in the fileList variable\n",
    "####################################################\n",
    "# fileList = glob.glob(\"combinedBook/dfST_*.csv\")\n",
    "fileList = glob.glob(\"YangST4download/all_others/*1717MA2N09CLIC30EX*.csv\")\n",
    "\n",
    "####################################################\n",
    "# make dataframe from the fileList list that was created\n",
    "####################################################\n",
    "refdf = pd.DataFrame(fileList)\n",
    "\n",
    "####################################################\n",
    "# reset the index to make the it start and then rename the column to 'Student' also\n",
    "# the column that defaults to named '0' rename that to 'File'\n",
    "####################################################\n",
    "refdf = refdf.reset_index().rename(columns={'index':'Student', 0:'File'})\n",
    "refdf['Student'] = refdf.Student\n",
    "refdf"
   ]
  },
  {
   "cell_type": "markdown",
   "metadata": {},
   "source": [
    "# Chunking Data (also 1st Lambda)\n",
    "Here we will try to save chunks. For each chunk in the file, we will:\n",
    "- identify the list of booklets in that chunk and save all data for each booklet to it's own file."
   ]
  },
  {
   "cell_type": "markdown",
   "metadata": {},
   "source": [
    "Data will be dropped here first."
   ]
  },
  {
   "cell_type": "code",
   "execution_count": 6,
   "metadata": {},
   "outputs": [
    {
     "name": "stdout",
     "output_type": "stream",
     "text": [
      "number of chunks 359\n"
     ]
    }
   ],
   "source": [
    "####################################################\n",
    "#set number of booklets to a chunk  This is the same for either type of file\n",
    "####################################################\n",
    "chunksize = 1000\n",
    "nchunks = int(np.ceil(refdf['Student'].max()/1000))\n",
    "print('number of chunks',nchunks)\n",
    "\n",
    "chunks = [(c+1) *chunksize for c in range(nchunks)]\n",
    "chunks\n",
    "####################################################\n",
    "# take the 'Student' column and pass it to the function\n",
    "# assignChunk() and assign the response to a new\n",
    "# column in refdf.\n",
    "####################################################\n",
    "refdf['chunk'] = refdf['Student'].apply(assignChunk)"
   ]
  },
  {
   "cell_type": "code",
   "execution_count": 4,
   "metadata": {},
   "outputs": [
    {
     "data": {
      "text/plain": [
       "358227"
      ]
     },
     "execution_count": 4,
     "metadata": {},
     "output_type": "execute_result"
    }
   ],
   "source": [
    "# This number will be off by one number, because this zero based index. \n",
    "refdf.Student.max()"
   ]
  },
  {
   "cell_type": "code",
   "execution_count": 7,
   "metadata": {},
   "outputs": [
    {
     "data": {
      "text/html": [
       "<div>\n",
       "<style scoped>\n",
       "    .dataframe tbody tr th:only-of-type {\n",
       "        vertical-align: middle;\n",
       "    }\n",
       "\n",
       "    .dataframe tbody tr th {\n",
       "        vertical-align: top;\n",
       "    }\n",
       "\n",
       "    .dataframe thead th {\n",
       "        text-align: right;\n",
       "    }\n",
       "</style>\n",
       "<table border=\"1\" class=\"dataframe\">\n",
       "  <thead>\n",
       "    <tr style=\"text-align: right;\">\n",
       "      <th></th>\n",
       "      <th>Student</th>\n",
       "      <th>BookletNumber</th>\n",
       "      <th>chunk</th>\n",
       "    </tr>\n",
       "  </thead>\n",
       "  <tbody>\n",
       "    <tr>\n",
       "      <th>0</th>\n",
       "      <td>0</td>\n",
       "      <td>2020391905</td>\n",
       "      <td>1000</td>\n",
       "    </tr>\n",
       "    <tr>\n",
       "      <th>1</th>\n",
       "      <td>1</td>\n",
       "      <td>2210438182</td>\n",
       "      <td>1000</td>\n",
       "    </tr>\n",
       "    <tr>\n",
       "      <th>2</th>\n",
       "      <td>2</td>\n",
       "      <td>2140108786</td>\n",
       "      <td>1000</td>\n",
       "    </tr>\n",
       "    <tr>\n",
       "      <th>3</th>\n",
       "      <td>3</td>\n",
       "      <td>2863002272</td>\n",
       "      <td>1000</td>\n",
       "    </tr>\n",
       "    <tr>\n",
       "      <th>4</th>\n",
       "      <td>4</td>\n",
       "      <td>2093055816</td>\n",
       "      <td>1000</td>\n",
       "    </tr>\n",
       "  </tbody>\n",
       "</table>\n",
       "</div>"
      ],
      "text/plain": [
       "   Student  BookletNumber  chunk\n",
       "0        0     2020391905   1000\n",
       "1        1     2210438182   1000\n",
       "2        2     2140108786   1000\n",
       "3        3     2863002272   1000\n",
       "4        4     2093055816   1000"
      ]
     },
     "execution_count": 7,
     "metadata": {},
     "output_type": "execute_result"
    }
   ],
   "source": [
    "refdf.head()"
   ]
  },
  {
   "cell_type": "markdown",
   "metadata": {},
   "source": [
    "The below cell deals with a single file. The file name is not a factor for naming"
   ]
  },
  {
   "cell_type": "code",
   "execution_count": 22,
   "metadata": {},
   "outputs": [
    {
     "name": "stdout",
     "output_type": "stream",
     "text": [
      "done\n"
     ]
    }
   ],
   "source": [
    "####################################################\n",
    "# Code improvement: creation of BlockCode column works for the current format\n",
    "# must be improved for other formats (standard file format). \n",
    "# Ideally we should do this with regular expression\n",
    "####################################################\n",
    "\n",
    "# refdf['BlockCode'] = refdf.File[0].split('_')[-3].split('.csv')[0]\n",
    "refdf['BlockCode'] = df.BlockCode[0]\n",
    "for chunk in refdf.chunk.unique():\n",
    "    try:\n",
    "        refdf['startEnd'] = refdf.chunk.apply(lambda x: str(x-chunksize+1)+'-'+str(x))\n",
    "#         print('refdf', refdf['startEnd'])\n",
    "    #     refdf.startEnd.unique()\n",
    "        #merge to file\n",
    "#         dfLarge = dfLarge.merge(refdf,on='BookletNumber')\n",
    "        refdf['fileType'] = \"raw\"\n",
    "        refdf['outfile'] = refdf.fileType + \"_\" + refdf.BlockCode.astype(str)+'_'+refdf.startEnd.astype(str)+'.csv'\n",
    "        refdf.head()\n",
    "    except:\n",
    "        print('exception')\n",
    "        #write files to chunks\n",
    "print('done')"
   ]
  },
  {
   "cell_type": "code",
   "execution_count": 23,
   "metadata": {},
   "outputs": [
    {
     "data": {
      "text/html": [
       "<div>\n",
       "<style scoped>\n",
       "    .dataframe tbody tr th:only-of-type {\n",
       "        vertical-align: middle;\n",
       "    }\n",
       "\n",
       "    .dataframe tbody tr th {\n",
       "        vertical-align: top;\n",
       "    }\n",
       "\n",
       "    .dataframe thead th {\n",
       "        text-align: right;\n",
       "    }\n",
       "</style>\n",
       "<table border=\"1\" class=\"dataframe\">\n",
       "  <thead>\n",
       "    <tr style=\"text-align: right;\">\n",
       "      <th></th>\n",
       "      <th>Student</th>\n",
       "      <th>BookletNumber</th>\n",
       "      <th>chunk</th>\n",
       "      <th>BlockCode</th>\n",
       "      <th>startEnd</th>\n",
       "      <th>fileType</th>\n",
       "      <th>outfile</th>\n",
       "    </tr>\n",
       "  </thead>\n",
       "  <tbody>\n",
       "    <tr>\n",
       "      <th>0</th>\n",
       "      <td>0</td>\n",
       "      <td>2333048613</td>\n",
       "      <td>1000</td>\n",
       "      <td>1717MA2N09CLIC30EX</td>\n",
       "      <td>1-1000</td>\n",
       "      <td>raw</td>\n",
       "      <td>raw_1717MA2N09CLIC30EX_1-1000.csv</td>\n",
       "    </tr>\n",
       "    <tr>\n",
       "      <th>1</th>\n",
       "      <td>1</td>\n",
       "      <td>2333124506</td>\n",
       "      <td>1000</td>\n",
       "      <td>1717MA2N09CLIC30EX</td>\n",
       "      <td>1-1000</td>\n",
       "      <td>raw</td>\n",
       "      <td>raw_1717MA2N09CLIC30EX_1-1000.csv</td>\n",
       "    </tr>\n",
       "    <tr>\n",
       "      <th>2</th>\n",
       "      <td>2</td>\n",
       "      <td>2333220343</td>\n",
       "      <td>1000</td>\n",
       "      <td>1717MA2N09CLIC30EX</td>\n",
       "      <td>1-1000</td>\n",
       "      <td>raw</td>\n",
       "      <td>raw_1717MA2N09CLIC30EX_1-1000.csv</td>\n",
       "    </tr>\n",
       "    <tr>\n",
       "      <th>3</th>\n",
       "      <td>3</td>\n",
       "      <td>2333123640</td>\n",
       "      <td>1000</td>\n",
       "      <td>1717MA2N09CLIC30EX</td>\n",
       "      <td>1-1000</td>\n",
       "      <td>raw</td>\n",
       "      <td>raw_1717MA2N09CLIC30EX_1-1000.csv</td>\n",
       "    </tr>\n",
       "    <tr>\n",
       "      <th>4</th>\n",
       "      <td>4</td>\n",
       "      <td>2333190959</td>\n",
       "      <td>1000</td>\n",
       "      <td>1717MA2N09CLIC30EX</td>\n",
       "      <td>1-1000</td>\n",
       "      <td>raw</td>\n",
       "      <td>raw_1717MA2N09CLIC30EX_1-1000.csv</td>\n",
       "    </tr>\n",
       "  </tbody>\n",
       "</table>\n",
       "</div>"
      ],
      "text/plain": [
       "   Student  BookletNumber  chunk           BlockCode startEnd fileType  \\\n",
       "0        0     2333048613   1000  1717MA2N09CLIC30EX   1-1000      raw   \n",
       "1        1     2333124506   1000  1717MA2N09CLIC30EX   1-1000      raw   \n",
       "2        2     2333220343   1000  1717MA2N09CLIC30EX   1-1000      raw   \n",
       "3        3     2333123640   1000  1717MA2N09CLIC30EX   1-1000      raw   \n",
       "4        4     2333190959   1000  1717MA2N09CLIC30EX   1-1000      raw   \n",
       "\n",
       "                             outfile  \n",
       "0  raw_1717MA2N09CLIC30EX_1-1000.csv  \n",
       "1  raw_1717MA2N09CLIC30EX_1-1000.csv  \n",
       "2  raw_1717MA2N09CLIC30EX_1-1000.csv  \n",
       "3  raw_1717MA2N09CLIC30EX_1-1000.csv  \n",
       "4  raw_1717MA2N09CLIC30EX_1-1000.csv  "
      ]
     },
     "execution_count": 23,
     "metadata": {},
     "output_type": "execute_result"
    }
   ],
   "source": [
    "refdf.head()"
   ]
  },
  {
   "cell_type": "markdown",
   "metadata": {},
   "source": [
    "The below cell deals with multiple files with the file name included in the name of the file being read in"
   ]
  },
  {
   "cell_type": "code",
   "execution_count": 11,
   "metadata": {},
   "outputs": [
    {
     "name": "stdout",
     "output_type": "stream",
     "text": [
      "done\n"
     ]
    }
   ],
   "source": [
    "####################################################\n",
    "# Code improvement: creation of BlockCode column works for the current format\n",
    "# must be improved for other formats (standard file format). \n",
    "# Ideally we should do this with regular expression\n",
    "####################################################\n",
    "\n",
    "refdf['BlockCode'] = refdf.File[0].split('_')[-3].split('.csv')[0]\n",
    "for chunk in refdf.chunk.unique():\n",
    "    try:\n",
    "        refdf['startEnd'] = refdf.chunk.apply(lambda x: str(x-chunksize+1)+'-'+str(x))\n",
    "#         print('refdf', refdf['startEnd'])\n",
    "    #     refdf.startEnd.unique()\n",
    "        #merge to file\n",
    "#         dfLarge = dfLarge.merge(refdf,on='BookletNumber')\n",
    "        \n",
    "        refdf['outfile'] = refdf.BlockCode.astype(str)+'_'+refdf.startEnd.astype(str)+'.csv'\n",
    "        refdf.head()\n",
    "    except:\n",
    "        print('exception')\n",
    "        #write files to chunks\n",
    "print('done')"
   ]
  },
  {
   "cell_type": "code",
   "execution_count": 12,
   "metadata": {
    "scrolled": true
   },
   "outputs": [
    {
     "data": {
      "text/html": [
       "<div>\n",
       "<style scoped>\n",
       "    .dataframe tbody tr th:only-of-type {\n",
       "        vertical-align: middle;\n",
       "    }\n",
       "\n",
       "    .dataframe tbody tr th {\n",
       "        vertical-align: top;\n",
       "    }\n",
       "\n",
       "    .dataframe thead th {\n",
       "        text-align: right;\n",
       "    }\n",
       "</style>\n",
       "<table border=\"1\" class=\"dataframe\">\n",
       "  <thead>\n",
       "    <tr style=\"text-align: right;\">\n",
       "      <th></th>\n",
       "      <th>Student</th>\n",
       "      <th>File</th>\n",
       "      <th>chunk</th>\n",
       "      <th>BlockCode</th>\n",
       "      <th>startEnd</th>\n",
       "      <th>outfile</th>\n",
       "    </tr>\n",
       "  </thead>\n",
       "  <tbody>\n",
       "    <tr>\n",
       "      <th>0</th>\n",
       "      <td>0</td>\n",
       "      <td>YangST4download/all_others/dfST_1717MA2N09CLIC...</td>\n",
       "      <td>1000</td>\n",
       "      <td>1717MA2N09CLIC30EX</td>\n",
       "      <td>1-1000</td>\n",
       "      <td>1717MA2N09CLIC30EX_1-1000.csv</td>\n",
       "    </tr>\n",
       "    <tr>\n",
       "      <th>1</th>\n",
       "      <td>1</td>\n",
       "      <td>YangST4download/all_others/dfST_1717MA2N09CLIC...</td>\n",
       "      <td>1000</td>\n",
       "      <td>1717MA2N09CLIC30EX</td>\n",
       "      <td>1-1000</td>\n",
       "      <td>1717MA2N09CLIC30EX_1-1000.csv</td>\n",
       "    </tr>\n",
       "    <tr>\n",
       "      <th>2</th>\n",
       "      <td>2</td>\n",
       "      <td>YangST4download/all_others/dfST_1717MA2N09CLIC...</td>\n",
       "      <td>1000</td>\n",
       "      <td>1717MA2N09CLIC30EX</td>\n",
       "      <td>1-1000</td>\n",
       "      <td>1717MA2N09CLIC30EX_1-1000.csv</td>\n",
       "    </tr>\n",
       "    <tr>\n",
       "      <th>3</th>\n",
       "      <td>3</td>\n",
       "      <td>YangST4download/all_others/dfST_1717MA2N09CLIC...</td>\n",
       "      <td>1000</td>\n",
       "      <td>1717MA2N09CLIC30EX</td>\n",
       "      <td>1-1000</td>\n",
       "      <td>1717MA2N09CLIC30EX_1-1000.csv</td>\n",
       "    </tr>\n",
       "    <tr>\n",
       "      <th>4</th>\n",
       "      <td>4</td>\n",
       "      <td>YangST4download/all_others/dfST_1717MA2N09CLIC...</td>\n",
       "      <td>1000</td>\n",
       "      <td>1717MA2N09CLIC30EX</td>\n",
       "      <td>1-1000</td>\n",
       "      <td>1717MA2N09CLIC30EX_1-1000.csv</td>\n",
       "    </tr>\n",
       "  </tbody>\n",
       "</table>\n",
       "</div>"
      ],
      "text/plain": [
       "   Student                                               File  chunk  \\\n",
       "0        0  YangST4download/all_others/dfST_1717MA2N09CLIC...   1000   \n",
       "1        1  YangST4download/all_others/dfST_1717MA2N09CLIC...   1000   \n",
       "2        2  YangST4download/all_others/dfST_1717MA2N09CLIC...   1000   \n",
       "3        3  YangST4download/all_others/dfST_1717MA2N09CLIC...   1000   \n",
       "4        4  YangST4download/all_others/dfST_1717MA2N09CLIC...   1000   \n",
       "\n",
       "            BlockCode startEnd                        outfile  \n",
       "0  1717MA2N09CLIC30EX   1-1000  1717MA2N09CLIC30EX_1-1000.csv  \n",
       "1  1717MA2N09CLIC30EX   1-1000  1717MA2N09CLIC30EX_1-1000.csv  \n",
       "2  1717MA2N09CLIC30EX   1-1000  1717MA2N09CLIC30EX_1-1000.csv  \n",
       "3  1717MA2N09CLIC30EX   1-1000  1717MA2N09CLIC30EX_1-1000.csv  \n",
       "4  1717MA2N09CLIC30EX   1-1000  1717MA2N09CLIC30EX_1-1000.csv  "
      ]
     },
     "execution_count": 12,
     "metadata": {},
     "output_type": "execute_result"
    }
   ],
   "source": [
    "refdf.head()"
   ]
  },
  {
   "cell_type": "markdown",
   "metadata": {},
   "source": [
    "Next cell needs to be modified to turn lambda function to an actual function with try except statements to print status of what is happening while running"
   ]
  },
  {
   "cell_type": "code",
   "execution_count": null,
   "metadata": {},
   "outputs": [],
   "source": [
    "# Single file\n",
    "print(df.shape)\n",
    "\n",
    "df = df.merge(refdf, how=\"left\", on=['BookletNumber', 'BlockCode'])\n",
    "print(df.shape)\n",
    "df.head()"
   ]
  },
  {
   "cell_type": "code",
   "execution_count": 26,
   "metadata": {},
   "outputs": [
    {
     "data": {
      "text/html": [
       "<div>\n",
       "<style scoped>\n",
       "    .dataframe tbody tr th:only-of-type {\n",
       "        vertical-align: middle;\n",
       "    }\n",
       "\n",
       "    .dataframe tbody tr th {\n",
       "        vertical-align: top;\n",
       "    }\n",
       "\n",
       "    .dataframe thead th {\n",
       "        text-align: right;\n",
       "    }\n",
       "</style>\n",
       "<table border=\"1\" class=\"dataframe\">\n",
       "  <thead>\n",
       "    <tr style=\"text-align: right;\">\n",
       "      <th></th>\n",
       "    </tr>\n",
       "  </thead>\n",
       "  <tbody>\n",
       "  </tbody>\n",
       "</table>\n",
       "</div>"
      ],
      "text/plain": [
       "Empty DataFrame\n",
       "Columns: []\n",
       "Index: []"
      ]
     },
     "execution_count": 26,
     "metadata": {},
     "output_type": "execute_result"
    }
   ],
   "source": [
    "# single file\n",
    "df.groupby('outfile').apply(lambda x: x.to_csv(\"processedChunks233/\"+x.outfile[0], index=False))"
   ]
  },
  {
   "cell_type": "code",
   "execution_count": 24,
   "metadata": {},
   "outputs": [
    {
     "name": "stdout",
     "output_type": "stream",
     "text": [
      "(1058554, 9)\n",
      "(1058554, 14)\n"
     ]
    },
    {
     "data": {
      "text/html": [
       "<div>\n",
       "<style scoped>\n",
       "    .dataframe tbody tr th:only-of-type {\n",
       "        vertical-align: middle;\n",
       "    }\n",
       "\n",
       "    .dataframe tbody tr th {\n",
       "        vertical-align: top;\n",
       "    }\n",
       "\n",
       "    .dataframe thead th {\n",
       "        text-align: right;\n",
       "    }\n",
       "</style>\n",
       "<table border=\"1\" class=\"dataframe\">\n",
       "  <thead>\n",
       "    <tr style=\"text-align: right;\">\n",
       "      <th></th>\n",
       "      <th>EventId</th>\n",
       "      <th>Subject</th>\n",
       "      <th>BookletNumber</th>\n",
       "      <th>BlockCode</th>\n",
       "      <th>AccessionNumber</th>\n",
       "      <th>ItemTypeCode</th>\n",
       "      <th>Label</th>\n",
       "      <th>EventTime</th>\n",
       "      <th>ExtendedInfo</th>\n",
       "      <th>Student</th>\n",
       "      <th>chunk</th>\n",
       "      <th>startEnd</th>\n",
       "      <th>fileType</th>\n",
       "      <th>outfile</th>\n",
       "    </tr>\n",
       "  </thead>\n",
       "  <tbody>\n",
       "    <tr>\n",
       "      <th>0</th>\n",
       "      <td>24300554</td>\n",
       "      <td>MAT</td>\n",
       "      <td>2333048613</td>\n",
       "      <td>1717MA2N09CLIC30EX</td>\n",
       "      <td>VH134373</td>\n",
       "      <td>FillInBlank</td>\n",
       "      <td>Resume Workstation</td>\n",
       "      <td>2017-01-31 16:29:07.840</td>\n",
       "      <td>NaN</td>\n",
       "      <td>0</td>\n",
       "      <td>1000</td>\n",
       "      <td>1-1000</td>\n",
       "      <td>raw</td>\n",
       "      <td>raw_1717MA2N09CLIC30EX_1-1000.csv</td>\n",
       "    </tr>\n",
       "    <tr>\n",
       "      <th>1</th>\n",
       "      <td>732356571</td>\n",
       "      <td>MAT</td>\n",
       "      <td>2333124506</td>\n",
       "      <td>1717MA2N09CLIC30EX</td>\n",
       "      <td>VH134366</td>\n",
       "      <td>MultipleFillInBlank</td>\n",
       "      <td>Resume Workstation</td>\n",
       "      <td>2017-03-02 19:26:06.387</td>\n",
       "      <td>NaN</td>\n",
       "      <td>1</td>\n",
       "      <td>1000</td>\n",
       "      <td>1-1000</td>\n",
       "      <td>raw</td>\n",
       "      <td>raw_1717MA2N09CLIC30EX_1-1000.csv</td>\n",
       "    </tr>\n",
       "    <tr>\n",
       "      <th>2</th>\n",
       "      <td>71213892</td>\n",
       "      <td>MAT</td>\n",
       "      <td>2333220343</td>\n",
       "      <td>1717MA2N09CLIC30EX</td>\n",
       "      <td>VH139196</td>\n",
       "      <td>CompositeCR</td>\n",
       "      <td>Resume Workstation</td>\n",
       "      <td>2017-02-01 14:30:51.887</td>\n",
       "      <td>NaN</td>\n",
       "      <td>2</td>\n",
       "      <td>1000</td>\n",
       "      <td>1-1000</td>\n",
       "      <td>raw</td>\n",
       "      <td>raw_1717MA2N09CLIC30EX_1-1000.csv</td>\n",
       "    </tr>\n",
       "    <tr>\n",
       "      <th>3</th>\n",
       "      <td>815969460</td>\n",
       "      <td>MAT</td>\n",
       "      <td>2333123640</td>\n",
       "      <td>1717MA2N09CLIC30EX</td>\n",
       "      <td>VH098839</td>\n",
       "      <td>MCSS</td>\n",
       "      <td>Resume Workstation</td>\n",
       "      <td>2017-03-07 16:07:24.273</td>\n",
       "      <td>NaN</td>\n",
       "      <td>3</td>\n",
       "      <td>1000</td>\n",
       "      <td>1-1000</td>\n",
       "      <td>raw</td>\n",
       "      <td>raw_1717MA2N09CLIC30EX_1-1000.csv</td>\n",
       "    </tr>\n",
       "    <tr>\n",
       "      <th>4</th>\n",
       "      <td>71213831</td>\n",
       "      <td>MAT</td>\n",
       "      <td>2333220343</td>\n",
       "      <td>1717MA2N09CLIC30EX</td>\n",
       "      <td>VH139196</td>\n",
       "      <td>CompositeCR</td>\n",
       "      <td>Resume Workstation</td>\n",
       "      <td>2017-02-01 14:23:44.167</td>\n",
       "      <td>NaN</td>\n",
       "      <td>2</td>\n",
       "      <td>1000</td>\n",
       "      <td>1-1000</td>\n",
       "      <td>raw</td>\n",
       "      <td>raw_1717MA2N09CLIC30EX_1-1000.csv</td>\n",
       "    </tr>\n",
       "  </tbody>\n",
       "</table>\n",
       "</div>"
      ],
      "text/plain": [
       "     EventId Subject  BookletNumber           BlockCode AccessionNumber  \\\n",
       "0   24300554     MAT     2333048613  1717MA2N09CLIC30EX        VH134373   \n",
       "1  732356571     MAT     2333124506  1717MA2N09CLIC30EX        VH134366   \n",
       "2   71213892     MAT     2333220343  1717MA2N09CLIC30EX        VH139196   \n",
       "3  815969460     MAT     2333123640  1717MA2N09CLIC30EX        VH098839   \n",
       "4   71213831     MAT     2333220343  1717MA2N09CLIC30EX        VH139196   \n",
       "\n",
       "          ItemTypeCode               Label                EventTime  \\\n",
       "0          FillInBlank  Resume Workstation  2017-01-31 16:29:07.840   \n",
       "1  MultipleFillInBlank  Resume Workstation  2017-03-02 19:26:06.387   \n",
       "2          CompositeCR  Resume Workstation  2017-02-01 14:30:51.887   \n",
       "3                 MCSS  Resume Workstation  2017-03-07 16:07:24.273   \n",
       "4          CompositeCR  Resume Workstation  2017-02-01 14:23:44.167   \n",
       "\n",
       "  ExtendedInfo  Student  chunk startEnd fileType  \\\n",
       "0          NaN        0   1000   1-1000      raw   \n",
       "1          NaN        1   1000   1-1000      raw   \n",
       "2          NaN        2   1000   1-1000      raw   \n",
       "3          NaN        3   1000   1-1000      raw   \n",
       "4          NaN        2   1000   1-1000      raw   \n",
       "\n",
       "                             outfile  \n",
       "0  raw_1717MA2N09CLIC30EX_1-1000.csv  \n",
       "1  raw_1717MA2N09CLIC30EX_1-1000.csv  \n",
       "2  raw_1717MA2N09CLIC30EX_1-1000.csv  \n",
       "3  raw_1717MA2N09CLIC30EX_1-1000.csv  \n",
       "4  raw_1717MA2N09CLIC30EX_1-1000.csv  "
      ]
     },
     "execution_count": 24,
     "metadata": {},
     "output_type": "execute_result"
    }
   ],
   "source": [
    "# multiple files\n",
    "refdf.groupby('outfile').apply(lambda x: pd.concat([pd.read_csv(aFile) for aFile in x.File], sort=False)\\\n",
    "                               .to_csv(\"processedChunks233/\"+x.outfile[0], index=False))"
   ]
  },
  {
   "cell_type": "code",
   "execution_count": 60,
   "metadata": {},
   "outputs": [
    {
     "data": {
      "text/html": [
       "<div>\n",
       "<style scoped>\n",
       "    .dataframe tbody tr th:only-of-type {\n",
       "        vertical-align: middle;\n",
       "    }\n",
       "\n",
       "    .dataframe tbody tr th {\n",
       "        vertical-align: top;\n",
       "    }\n",
       "\n",
       "    .dataframe thead th {\n",
       "        text-align: right;\n",
       "    }\n",
       "</style>\n",
       "<table border=\"1\" class=\"dataframe\">\n",
       "  <thead>\n",
       "    <tr style=\"text-align: right;\">\n",
       "      <th></th>\n",
       "    </tr>\n",
       "  </thead>\n",
       "  <tbody>\n",
       "  </tbody>\n",
       "</table>\n",
       "</div>"
      ],
      "text/plain": [
       "Empty DataFrame\n",
       "Columns: []\n",
       "Index: []"
      ]
     },
     "execution_count": 60,
     "metadata": {},
     "output_type": "execute_result"
    }
   ],
   "source": [
    "# Multiple file\n",
    "refdf.groupby('outfile').apply(lambda x: pd.concat([pd.read_csv(aFile) for aFile in x.File], sort=False)\\\n",
    "                               .to_csv(\"processedChunks/\"+x.outfile[0], index=False))"
   ]
  },
  {
   "cell_type": "markdown",
   "metadata": {},
   "source": [
    "# Checking outfiles\n",
    "We will read in a few of the files that were just generated from the code above. \n",
    "Checking the distribution of students."
   ]
  },
  {
   "cell_type": "code",
   "execution_count": 70,
   "metadata": {
    "scrolled": true
   },
   "outputs": [
    {
     "data": {
      "text/plain": [
       "Index(['Unnamed: 0', 'AccNum', 'BlockCode', 'BookletNumber',\n",
       "       'CalculatorBuffer', 'CalculatorModel', 'DialogueEvent',\n",
       "       'DropChoiceResponse', 'EquationEditorButtonName',\n",
       "       'EquationEditorInvokationMethod', 'EquationEditorKeyName',\n",
       "       'EquationEditorStatus', 'ExtendedInfo', 'ItemOption',\n",
       "       'ItemOptionStatus', 'ItemPart', 'ItemPartNumber', 'ItemSubPart',\n",
       "       'ItemType', 'Label', 'Language', 'ObservableEventId', 'ProgressBar',\n",
       "       'ScratchworkDrawMode', 'ScratchworkEraseMode',\n",
       "       'ScratchworkHighlightMode', 'ScratchworkOverlay', 'ScrollArea',\n",
       "       'ScrollDirection', 'ScrollMethod', 'ScrollPixelsX', 'ScrollPixelsY',\n",
       "       'SubjectCode', 'TTS', 'TTSRead', 'TextBoxNumber', 'contentLaTeX',\n",
       "       'contentMathML', 'numericIdentifier', 'partId', 't', 'theme',\n",
       "       'zoomLevel', 'VH098519_0-0.0', 'VH098522_0-0.0', 'VH098556_0-0.0',\n",
       "       'VH098597_0-0.0', 'VH098740_0-0.0', 'VH098753_0-0.0', 'VH098759_0-0.0',\n",
       "       'VH098779_0-0.0', 'VH098783_0-0.0', 'VH098808_0-0.0', 'VH098810_0-0.0',\n",
       "       'VH098812_0-0.0', 'VH098834_0-0.0', 'VH098839_0-0.0',\n",
       "       'VH134373_0-1_latex', 'VH134373_0-_latex', 'VH134387_0-1_latex',\n",
       "       'VH134387_0-_latex', 'Unnamed: 0.1', 'VH266695_0-0.0', 'VH287980_0-0.0',\n",
       "       'VH271388_0-0', 'VH263651_0-0.0', 'VH302900_0-0.0',\n",
       "       'VH262355_0-1_latex', 'VH262355_0-_latex', 'VH336968_0-1_latex',\n",
       "       'VH336968_0-_latex', 'CalculatorStatus', 'durSinceBlockStart'],\n",
       "      dtype='object')"
      ]
     },
     "execution_count": 70,
     "metadata": {},
     "output_type": "execute_result"
    }
   ],
   "source": [
    "lookdf = pd.read_csv('combinedBook/dfST_1717MA2N09CLIC30EX_1-1000.csv')\n",
    "lookdf.head()\n",
    "lookdf.columns"
   ]
  },
  {
   "cell_type": "code",
   "execution_count": 27,
   "metadata": {},
   "outputs": [
    {
     "data": {
      "text/plain": [
       "Index(['EventId', 'Subject', 'BookletNumber', 'BlockCode', 'AccessionNumber',\n",
       "       'ItemTypeCode', 'Label', 'EventTime', 'ExtendedInfo', 'Student',\n",
       "       'chunk', 'startEnd', 'fileType', 'outfile'],\n",
       "      dtype='object')"
      ]
     },
     "execution_count": 27,
     "metadata": {},
     "output_type": "execute_result"
    }
   ],
   "source": [
    "qcdf = pd.read_csv('processedChunks233/raw_1717MA2N09CLIC30EX_1-1000.csv')\n",
    "qcdf.columns"
   ]
  },
  {
   "cell_type": "code",
   "execution_count": 28,
   "metadata": {},
   "outputs": [
    {
     "name": "stdout",
     "output_type": "stream",
     "text": [
      "3\n"
     ]
    }
   ],
   "source": [
    "outFileList = glob.glob(\"processedChunks233/raw_1717*.csv\")\n",
    "print(len(outFileList))"
   ]
  },
  {
   "cell_type": "code",
   "execution_count": 29,
   "metadata": {},
   "outputs": [
    {
     "name": "stdout",
     "output_type": "stream",
     "text": [
      "File processedChunks233/raw_1717MA2N09CLIC30EX_1001-2000.csv: Number of Students (Booklet Numbers) 1000\n",
      " Number of columns 14 (columns names: Index(['EventId', 'Subject', 'BookletNumber', 'BlockCode', 'AccessionNumber',\n",
      "       'ItemTypeCode', 'Label', 'EventTime', 'ExtendedInfo', 'Student',\n",
      "       'chunk', 'startEnd', 'fileType', 'outfile'],\n",
      "      dtype='object'))\n",
      "\n",
      "File processedChunks233/raw_1717MA2N09CLIC30EX_2001-3000.csv: Number of Students (Booklet Numbers) 882\n",
      " Number of columns 14 (columns names: Index(['EventId', 'Subject', 'BookletNumber', 'BlockCode', 'AccessionNumber',\n",
      "       'ItemTypeCode', 'Label', 'EventTime', 'ExtendedInfo', 'Student',\n",
      "       'chunk', 'startEnd', 'fileType', 'outfile'],\n",
      "      dtype='object'))\n",
      "\n",
      "File processedChunks233/raw_1717MA2N09CLIC30EX_1-1000.csv: Number of Students (Booklet Numbers) 1000\n",
      " Number of columns 14 (columns names: Index(['EventId', 'Subject', 'BookletNumber', 'BlockCode', 'AccessionNumber',\n",
      "       'ItemTypeCode', 'Label', 'EventTime', 'ExtendedInfo', 'Student',\n",
      "       'chunk', 'startEnd', 'fileType', 'outfile'],\n",
      "      dtype='object'))\n",
      "\n"
     ]
    }
   ],
   "source": [
    "####################################################\n",
    "# Note: No more than one file can have fewer number of Students than the chunk size\n",
    "#     No files should have more than the number of chunks. \n",
    "#     All files should have the same number of columns.\n",
    "# This will show how many students as well as the shape (columns)\n",
    "####################################################\n",
    "# df = pd.read_csv(outFileList[0])\n",
    "# print(df.BookletNumber.nunique(), df.shape[1])\n",
    "# df.head()\n",
    "for file in outFileList:\n",
    "    tempdf = pd.read_csv(file)\n",
    "    print('File {}: Number of Students (Booklet Numbers) {}\\n Number of columns {} (columns names: {})\\n'.format(file, tempdf.BookletNumber.nunique(), tempdf.shape[1], tempdf.columns))\n",
    "    "
   ]
  },
  {
   "cell_type": "code",
   "execution_count": 45,
   "metadata": {},
   "outputs": [
    {
     "data": {
      "text/plain": [
       "236"
      ]
     },
     "execution_count": 45,
     "metadata": {},
     "output_type": "execute_result"
    }
   ],
   "source": [
    "refdf.loc[refdf.chunk == 29000].File.nunique()"
   ]
  },
  {
   "cell_type": "markdown",
   "metadata": {},
   "source": [
    "To do: \n",
    "\n",
    "figure out a way to QC logs for files that were created\n",
    "\n",
    "need to investigate the issue with the difference in the number of columns in various files (some have 73, 74, 75, 76 etc. columns)"
   ]
  },
  {
   "cell_type": "code",
   "execution_count": 69,
   "metadata": {
    "scrolled": false
   },
   "outputs": [],
   "source": [
    "# writefiles = {{k:v} for zip(k,v) in zip(Booklets.startEnd.unique())}\n",
    "# def writefile(x,filecol='outfile', index=False):\n",
    "#     filename=x[filecol]\n",
    "#     if x[filecol].unique()==1:\n",
    "#         x.to_csv(filename,index=index)\n",
    "for file in dfLarge.outfile.unique():\n",
    "    print('Processing {}...'.format(file))\n",
    "    dfLarge.loc[dfLarge.outfile==file].to_csv(file,index=False)\n",
    "    print('{} successsfully processed!'.format(file))"
   ]
  }
 ],
 "metadata": {
  "kernelspec": {
   "display_name": "Python 3",
   "language": "python",
   "name": "python3"
  },
  "language_info": {
   "codemirror_mode": {
    "name": "ipython",
    "version": 3
   },
   "file_extension": ".py",
   "mimetype": "text/x-python",
   "name": "python",
   "nbconvert_exporter": "python",
   "pygments_lexer": "ipython3",
   "version": "3.7.6"
  }
 },
 "nbformat": 4,
 "nbformat_minor": 2
}
